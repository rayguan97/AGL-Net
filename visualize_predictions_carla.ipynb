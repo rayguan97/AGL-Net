{
 "cells": [
  {
   "cell_type": "code",
   "execution_count": 1,
   "id": "14157ad0",
   "metadata": {},
   "outputs": [
    {
     "name": "stdout",
     "output_type": "stream",
     "text": [
      "Jupyter environment detected. Enabling Open3D WebVisualizer.\n",
      "[Open3D INFO] WebRTC GUI backend enabled.\n",
      "[Open3D INFO] WebRTCWindowSystem: HTTP handshake server disabled.\n"
     ]
    }
   ],
   "source": [
    "%load_ext autoreload\n",
    "%autoreload 2\n",
    "\n",
    "from pathlib import Path\n",
    "import torch\n",
    "import yaml\n",
    "from torchmetrics import MetricCollection\n",
    "from omegaconf import OmegaConf as OC\n",
    "import matplotlib.pyplot as plt\n",
    "import matplotlib as mpl\n",
    "import numpy as np\n",
    "from pytorch_lightning import seed_everything\n",
    "import sys\n",
    "\n",
    "import maploc\n",
    "from maploc.data import CarlaDataModule\n",
    "from maploc.data.torch import unbatch_to_device\n",
    "from maploc.module import GenericModule\n",
    "from maploc.models.metrics import Location2DError, AngleError, LateralLongitudinalError\n",
    "from maploc.evaluation.run import resolve_checkpoint_path\n",
    "from maploc.evaluation.viz import plot_example_single_rgb, plot_example_single_rgb_more\n",
    "\n",
    "from maploc.models.voting import argmax_xyr, fuse_gps\n",
    "from maploc.osm.viz import Colormap, plot_nodes\n",
    "from maploc.utils.viz_2d import plot_images, features_to_RGB, save_plot, add_text\n",
    "from maploc.utils.viz_localization import likelihood_overlay, plot_pose, plot_dense_rotations, add_circle_inset\n",
    "\n",
    "torch.set_grad_enabled(False);\n",
    "plt.rcParams.update({'figure.max_open_warning': 0})"
   ]
  },
  {
   "cell_type": "code",
   "execution_count": 3,
   "id": "66fb2e4e",
   "metadata": {},
   "outputs": [
    {
     "name": "stderr",
     "output_type": "stream",
     "text": [
      "100%|██████████| 174/174 [00:00<00:00, 262.24it/s]\n",
      "100%|██████████| 59/59 [00:00<00:00, 3906.91it/s]\n",
      "100%|██████████| 59/59 [00:00<00:00, 3355.90it/s]\n"
     ]
    }
   ],
   "source": [
    "# conf = OC.load(Path(maploc.__file__).parent / 'conf/data/carla.yaml')\n",
    "conf = OC.load(Path(maploc.__file__).parent / 'conf/data/carla_small.yaml')\n",
    "conf = OC.merge(conf, OC.create(yaml.full_load(\"\"\"\n",
    "loading:\n",
    "    val: {batch_size: 1, num_workers: 0}\n",
    "    train: ${.val}\n",
    "# max_init_error_rotation: null  # to remove any prior on the rotation\n",
    "# max_init_error: 64  # default: 20 (meters)\n",
    "# add_map_mask: false  # remove to search in the entire tile\n",
    "\"\"\")))\n",
    "OC.resolve(conf)\n",
    "dataset = CarlaDataModule(conf)\n",
    "dataset.prepare_data()\n",
    "dataset.setup()\n",
    "sampler = None"
   ]
  },
  {
   "cell_type": "code",
   "execution_count": 4,
   "id": "2ff82a29",
   "metadata": {},
   "outputs": [
    {
     "name": "stderr",
     "output_type": "stream",
     "text": [
      "[2024-03-14 05:50:20 maploc INFO] Using checkpoint checkpoint-step=80000.ckpt from epoch 9 and step 86650.\n"
     ]
    },
    {
     "name": "stdout",
     "output_type": "stream",
     "text": [
      "/home/rayguan/scratch1/carla/OrienterNet_ours/experiments/Orienter_model3_carla_x4_scaleaug7_pillar/checkpoint-step=80000.ckpt\n",
      "03/14 05:50:22 - mmengine - \u001b[4m\u001b[97mINFO\u001b[0m - DeformConv2dPack model.skeleton_mask_classifier.0 is upgraded to version 2.\n",
      "03/14 05:50:22 - mmengine - \u001b[4m\u001b[97mINFO\u001b[0m - DeformConv2dPack model.skeleton_mask_classifier.1 is upgraded to version 2.\n",
      "03/14 05:50:22 - mmengine - \u001b[4m\u001b[97mINFO\u001b[0m - DeformConv2dPack model.skeleton_mask_classifier.3 is upgraded to version 2.\n",
      "03/14 05:50:22 - mmengine - \u001b[4m\u001b[97mINFO\u001b[0m - DeformConv2dPack model.lidar_mask_classifier.0 is upgraded to version 2.\n",
      "03/14 05:50:22 - mmengine - \u001b[4m\u001b[97mINFO\u001b[0m - DeformConv2dPack model.lidar_mask_classifier.1 is upgraded to version 2.\n",
      "03/14 05:50:22 - mmengine - \u001b[4m\u001b[97mINFO\u001b[0m - DeformConv2dPack model.lidar_mask_classifier.3 is upgraded to version 2.\n",
      "03/14 05:50:22 - mmengine - \u001b[4m\u001b[97mINFO\u001b[0m - DeformConv2dPack model.mask_scale_classifier.0 is upgraded to version 2.\n",
      "03/14 05:50:22 - mmengine - \u001b[4m\u001b[97mINFO\u001b[0m - DeformConv2dPack model.mask_scale_classifier.1 is upgraded to version 2.\n",
      "03/14 05:50:22 - mmengine - \u001b[4m\u001b[97mINFO\u001b[0m - DeformConv2dPack model.mask_scale_classifier.3 is upgraded to version 2.\n"
     ]
    }
   ],
   "source": [
    "experiment = \"xxxxxxx/checkpoint-epoch=12.ckpt\"\n",
    "save_dir = \"./saved_figs/Orienter_model3_carla_x4_small_scaleaug7_pillar/\"\n",
    "\n",
    "# experiment = \"nexus/Orienter_model1_carla_x4_small_attn_scaleaug7/checkpoint-epoch=13.ckpt\"\n",
    "# experiment = \"orienternet_mgl.ckpt\"\n",
    "# experiment = \"experiment_name\"  # find the best checkpoint\n",
    "# experiment = \"experiment_name/checkpoint-step=N.ckpt\"  # a given checkpoint\n",
    "path = resolve_checkpoint_path(experiment)\n",
    "print(path)\n",
    "# cfg = {'model': {\"num_rotations\": 360, \"apply_map_prior\": True}}\n",
    "cfg = {}\n",
    "model = GenericModule.load_from_checkpoint(\n",
    "    path, strict=True, find_best=not experiment.endswith('.ckpt'), cfg=cfg)\n",
    "model = model.eval().cuda()"
   ]
  },
  {
   "cell_type": "code",
   "execution_count": 36,
   "id": "63f4cef2",
   "metadata": {},
   "outputs": [
    {
     "data": {
      "text/plain": [
       "'uv_gt'"
      ]
     },
     "execution_count": 36,
     "metadata": {},
     "output_type": "execute_result"
    }
   ],
   "source": [
    "model.model.metrics()[\"xy_max_error\"].data_key"
   ]
  },
  {
   "cell_type": "code",
   "execution_count": 7,
   "id": "230169c9",
   "metadata": {
    "scrolled": false
   },
   "outputs": [],
   "source": [
    "out_dir = save_dir\n",
    "if out_dir is not None:\n",
    "    !mkdir -p $out_dir/full\n",
    "    \n",
    "seed_everything(25) # best = 25\n",
    "loader = dataset.dataloader(\"test\", shuffle=sampler is None, sampler=sampler)\n",
    "metrics = MetricCollection(model.model.metrics()).to(model.device)\n",
    "# metrics[\"loc_max_error\"] = Location2DError(\"uv_max\", model.cfg.data.pixel_per_meter, \"uv_gt\")\n",
    "# metrics[\"loc_ave_error\"] = Location2DError(\"uv_expectation\", model.cfg.data.pixel_per_meter, \"uv_gt\")\n",
    "# metrics[\"directional_error\"] = AngleError(\"yaw_max\", \"theta_gt\")\n",
    "# for i, batch in zip(range(5), loader):\n",
    "for i, batch in zip(range(len(loader)), loader):\n",
    "    lp_uvt = lp_uv = loss = results = pred = data = batch_ = None\n",
    "    \n",
    "    batch_ = model.transfer_batch_to_device(batch, model.device, i)\n",
    "    pred = model(batch_)\n",
    "    loss = model.model.loss(pred, batch_)\n",
    "    results = metrics(pred, batch_)\n",
    "    # results.pop(\"xy_expectation_error\")\n",
    "    for k in list(results):\n",
    "        if \"recall\" in k:\n",
    "            results.pop(k)\n",
    "    print(f'{i} {loss[\"total\"].item():.2f}', {k: np.round(v.cpu().numpy(), 2) for k, v in results.items()})\n",
    "#     if results[\"xy_max_error\"] < 5:\n",
    "#         continue\n",
    "\n",
    "    pred = unbatch_to_device(pred)\n",
    "    data = unbatch_to_device(batch)\n",
    "    \n",
    "    # plot_example_single_rgb(i, model, pred, data, \"/home/rayguan/scratch_ssd/projects/carla/transfuser/results/\", out_dir=out_dir)\n",
    "    plot_example_single_rgb_more(i, model, pred, data, results, out_dir=Path(out_dir))\n",
    "    # plot_example_single(i, model, pred, data, results, plot_bev=True, out_dir=out_dir, show_dir_error=True)\n"
   ]
  },
  {
   "cell_type": "code",
   "execution_count": 38,
   "id": "53c32697",
   "metadata": {},
   "outputs": [],
   "source": [
    "route_dir = data[\"route_dir\"]\n",
    "aerial_idx = data[\"aerial_idx\"]\n",
    "ground_idx = data[\"ground_idx\"]\n",
    "\n",
    "map = data[\"map\"]\n",
    "\n",
    "uv_offset = data[\"uv_offset\"]\n",
    "pts_in_uv = data[\"pts_in_uv\"]\n",
    "\n",
    "uv_init = data[\"uv_init\"]\n",
    "theta_init = data[\"theta_init\"]\n",
    "\n",
    "uv_gt = data[\"uv_gt\"]\n",
    "theta_gt = data[\"theta_gt\"]"
   ]
  },
  {
   "cell_type": "code",
   "execution_count": 39,
   "id": "52480b24",
   "metadata": {},
   "outputs": [
    {
     "data": {
      "text/plain": [
       "tensor(469, dtype=torch.int32)"
      ]
     },
     "execution_count": 39,
     "metadata": {},
     "output_type": "execute_result"
    },
    {
     "ename": "",
     "evalue": "",
     "output_type": "error",
     "traceback": [
      "\u001b[1;31mThe Kernel crashed while executing code in the the current cell or a previous cell. Please review the code in the cell(s) to identify a possible cause of the failure. Click <a href='https://aka.ms/vscodeJupyterKernelCrash'>here</a> for more info. View Jupyter <a href='command:jupyter.viewOutput'>log</a> for further details."
     ]
    }
   ],
   "source": [
    "uv_gt.int()[1]"
   ]
  }
 ],
 "metadata": {
  "kernelspec": {
   "display_name": "Python 3 (ipykernel)",
   "language": "python",
   "name": "python3"
  },
  "language_info": {
   "codemirror_mode": {
    "name": "ipython",
    "version": 3
   },
   "file_extension": ".py",
   "mimetype": "text/x-python",
   "name": "python",
   "nbconvert_exporter": "python",
   "pygments_lexer": "ipython3",
   "version": "3.10.13"
  }
 },
 "nbformat": 4,
 "nbformat_minor": 5
}
